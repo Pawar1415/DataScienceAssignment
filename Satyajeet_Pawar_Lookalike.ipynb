{
 "cells": [
  {
   "cell_type": "markdown",
   "id": "aec5f6e9",
   "metadata": {},
   "source": [
    "# Task 2: Lookalike Model"
   ]
  },
  {
   "cell_type": "code",
   "execution_count": 1,
   "id": "c27c2c25",
   "metadata": {},
   "outputs": [],
   "source": [
    "import pandas as pd\n",
    "from sklearn.preprocessing import OneHotEncoder, MinMaxScaler\n",
    "from sklearn.metrics.pairwise import cosine_similarity"
   ]
  },
  {
   "cell_type": "markdown",
   "id": "e08dee55",
   "metadata": {},
   "source": [
    "# Load datasets"
   ]
  },
  {
   "cell_type": "code",
   "execution_count": 2,
   "id": "9b419ef8",
   "metadata": {},
   "outputs": [],
   "source": [
    "customers = pd.read_csv('D:\\Datasets\\Customers.csv')"
   ]
  },
  {
   "cell_type": "code",
   "execution_count": 3,
   "id": "b0da3d69",
   "metadata": {},
   "outputs": [],
   "source": [
    "products = pd.read_csv('D:\\Datasets\\Products.csv')"
   ]
  },
  {
   "cell_type": "code",
   "execution_count": 4,
   "id": "c4778fdd",
   "metadata": {},
   "outputs": [],
   "source": [
    "transactions = pd.read_csv('D:\\Datasets\\Transactions.csv')"
   ]
  },
  {
   "cell_type": "markdown",
   "id": "ff5feec2",
   "metadata": {},
   "source": [
    "# Merge datasets"
   ]
  },
  {
   "cell_type": "code",
   "execution_count": 5,
   "id": "28a4549d",
   "metadata": {},
   "outputs": [],
   "source": [
    "data = pd.merge(transactions, customers, on='CustomerID', how='left')"
   ]
  },
  {
   "cell_type": "code",
   "execution_count": 6,
   "id": "19eb04bd",
   "metadata": {},
   "outputs": [],
   "source": [
    "data = pd.merge(data, products, on='ProductID', how='left')"
   ]
  },
  {
   "cell_type": "markdown",
   "id": "dd60a459",
   "metadata": {},
   "source": [
    "# ------------------------- Feature Engineering -------------------------"
   ]
  },
  {
   "cell_type": "markdown",
   "id": "1c01cbec",
   "metadata": {},
   "source": [
    "# Aggregate transaction features per customer"
   ]
  },
  {
   "cell_type": "code",
   "execution_count": 7,
   "id": "790ea4db",
   "metadata": {},
   "outputs": [],
   "source": [
    "customer_features = data.groupby('CustomerID').agg({\n",
    "    'TotalValue': ['sum', 'mean'],  \n",
    "    'Quantity': 'sum',            \n",
    "    'Category': lambda x: ','.join(x)  \n",
    "}).reset_index()"
   ]
  },
  {
   "cell_type": "markdown",
   "id": "9f2028f9",
   "metadata": {},
   "source": [
    "# Rename columns"
   ]
  },
  {
   "cell_type": "code",
   "execution_count": 8,
   "id": "36c46b47",
   "metadata": {},
   "outputs": [],
   "source": [
    "customer_features.columns = ['CustomerID', 'TotalSpending', 'AvgSpending', 'TotalQuantity', 'Categories']"
   ]
  },
  {
   "cell_type": "markdown",
   "id": "4b572b38",
   "metadata": {},
   "source": [
    "# Encode product categories into features"
   ]
  },
  {
   "cell_type": "code",
   "execution_count": 9,
   "id": "8f090858",
   "metadata": {},
   "outputs": [],
   "source": [
    "category_encoder = OneHotEncoder()\n",
    "categories_encoded = category_encoder.fit_transform(\n",
    "    customer_features['Categories'].str.get_dummies(sep=',')\n",
    ").toarray()"
   ]
  },
  {
   "cell_type": "markdown",
   "id": "fde40d1e",
   "metadata": {},
   "source": [
    "# Combine all features into a single DataFrame"
   ]
  },
  {
   "cell_type": "code",
   "execution_count": 10,
   "id": "4c2bb5e8",
   "metadata": {},
   "outputs": [],
   "source": [
    "features = pd.concat([\n",
    "    customer_features[['CustomerID', 'TotalSpending', 'AvgSpending', 'TotalQuantity']],\n",
    "    pd.DataFrame(categories_encoded, columns=category_encoder.get_feature_names_out())\n",
    "], axis=1)"
   ]
  },
  {
   "cell_type": "markdown",
   "id": "a6aaa656",
   "metadata": {},
   "source": [
    "# Normalize numeric features"
   ]
  },
  {
   "cell_type": "code",
   "execution_count": 11,
   "id": "771e048d",
   "metadata": {},
   "outputs": [],
   "source": [
    "scaler = MinMaxScaler()\n",
    "features_scaled = scaler.fit_transform(features.iloc[:, 1:])\n",
    "features_normalized = pd.DataFrame(features_scaled, columns=features.columns[1:], index=features['CustomerID'])"
   ]
  },
  {
   "cell_type": "markdown",
   "id": "77fcd62c",
   "metadata": {},
   "source": [
    "# ------------------------- Similarity Calculation -------------------------"
   ]
  },
  {
   "cell_type": "markdown",
   "id": "b24c2b2e",
   "metadata": {},
   "source": [
    "# Compute pairwise cosine similarity"
   ]
  },
  {
   "cell_type": "code",
   "execution_count": 12,
   "id": "c942f3c0",
   "metadata": {},
   "outputs": [],
   "source": [
    "similarity_matrix = cosine_similarity(features_normalized)"
   ]
  },
  {
   "cell_type": "markdown",
   "id": "62ae61d9",
   "metadata": {},
   "source": [
    "# Create a DataFrame for similarity matrix"
   ]
  },
  {
   "cell_type": "code",
   "execution_count": 13,
   "id": "3f524fbd",
   "metadata": {},
   "outputs": [],
   "source": [
    "similarity_df = pd.DataFrame(similarity_matrix, index=features['CustomerID'], columns=features['CustomerID'])"
   ]
  },
  {
   "cell_type": "markdown",
   "id": "4f00f075",
   "metadata": {},
   "source": [
    "# ------------------------- Recommendation for Top 3 Lookalikes -------------------------"
   ]
  },
  {
   "cell_type": "code",
   "execution_count": 14,
   "id": "5f9bb7eb",
   "metadata": {},
   "outputs": [],
   "source": [
    "lookalikes = {}"
   ]
  },
  {
   "cell_type": "code",
   "execution_count": 15,
   "id": "d17f9cd7",
   "metadata": {},
   "outputs": [],
   "source": [
    "for customer_id in features['CustomerID'][:20]: \n",
    "    similar_customers = similarity_df[customer_id].sort_values(ascending=False)[1:4]  \n",
    "    lookalikes[customer_id] = list(zip(similar_customers.index, similar_customers.values))"
   ]
  },
  {
   "cell_type": "markdown",
   "id": "dca5364a",
   "metadata": {},
   "source": [
    "# Convert to a DataFrame for output"
   ]
  },
  {
   "cell_type": "code",
   "execution_count": 16,
   "id": "d1056122",
   "metadata": {},
   "outputs": [],
   "source": [
    "lookalike_df = pd.DataFrame({\n",
    "    'CustomerID': list(lookalikes.keys()),\n",
    "    'Lookalikes': [str(value) for value in lookalikes.values()]\n",
    "})"
   ]
  },
  {
   "cell_type": "code",
   "execution_count": 17,
   "id": "565a4da9",
   "metadata": {},
   "outputs": [],
   "source": [
    "# Save Lookalike.csv\n",
    "lookalike_df.to_csv('Satyajeet_Pawar_Lookalike.csv', index=False)"
   ]
  },
  {
   "cell_type": "markdown",
   "id": "cffb7ef2",
   "metadata": {},
   "source": [
    "# ------------------------- Output -------------------------"
   ]
  },
  {
   "cell_type": "code",
   "execution_count": 18,
   "id": "662fd85d",
   "metadata": {},
   "outputs": [
    {
     "name": "stdout",
     "output_type": "stream",
     "text": [
      "Lookalike recommendations for the first 20 customers saved to 'Satyajeet_Pawar_Lookalike.csv'\n"
     ]
    }
   ],
   "source": [
    "print(\"Lookalike recommendations for the first 20 customers saved to 'Satyajeet_Pawar_Lookalike.csv'\")"
   ]
  }
 ],
 "metadata": {
  "kernelspec": {
   "display_name": "Python 3 (ipykernel)",
   "language": "python",
   "name": "python3"
  },
  "language_info": {
   "codemirror_mode": {
    "name": "ipython",
    "version": 3
   },
   "file_extension": ".py",
   "mimetype": "text/x-python",
   "name": "python",
   "nbconvert_exporter": "python",
   "pygments_lexer": "ipython3",
   "version": "3.10.9"
  }
 },
 "nbformat": 4,
 "nbformat_minor": 5
}
